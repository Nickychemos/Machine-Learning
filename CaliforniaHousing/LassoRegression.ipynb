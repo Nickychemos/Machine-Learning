{
 "cells": [
  {
   "cell_type": "markdown",
   "metadata": {},
   "source": [
    "Lasso regression\n",
    "\n",
    "- This is another regularization technique that is similar to ridge regression only that it uses the absolute values of the coefficients instead of the squares.\n",
    "- This leads to a sparse of the coefficients and some coefficients will be exactly equal to zero.\n",
    "- This process helps data scientists to determine the useful features for the model. "
   ]
  },
  {
   "cell_type": "code",
   "execution_count": 3,
   "metadata": {},
   "outputs": [
    {
     "name": "stdout",
     "output_type": "stream",
     "text": [
      "Model Score 28.42 %\n"
     ]
    }
   ],
   "source": [
    "#Importing the necessary libraries\n",
    "\n",
    "import pandas as pd\n",
    "import numpy as np\n",
    "import matplotlib.pyplot as plt\n",
    "import seaborn as sns\n",
    "\n",
    "#importing ML libraries\n",
    "from sklearn.model_selection import train_test_split\n",
    "from sklearn.linear_model import Lasso\n",
    "from sklearn.metrics import mean_squared_error, r2_score\n",
    "from sklearn.preprocessing import LabelEncoder\n",
    "from sklearn.datasets import fetch_california_housing\n",
    "\n",
    "#Loading the data\n",
    "\n",
    "df = fetch_california_housing()\n",
    "\n",
    "#Defining the x and y variables\n",
    "\n",
    "x = df.data\n",
    "y = df.target\n",
    "\n",
    "'''\n",
    "x,y = df.data, df.target # defining multiple variables in one line. This is an alternative \n",
    "'''\n",
    "\n",
    "#Splitting the df to test and train\n",
    "\n",
    "x_train, x_test, y_train, y_test = train_test_split(x,y,test_size = 0.2, random_state = 42)\n",
    "\n",
    "#Choosing the model\n",
    "\n",
    "\n",
    "model = Lasso(alpha=1.0)\n",
    "\n",
    "#Fitting and training the model\n",
    "\n",
    "model.fit(x_train, y_train)\n",
    "\n",
    "#Making predictions\n",
    "y_predict = model.predict(x_test)\n",
    "score = model.score(x_test, y_test)\n",
    "\n",
    "print('Model Score', round(score*100, 2),'%' )\n",
    "\n",
    "\n"
   ]
  },
  {
   "cell_type": "code",
   "execution_count": null,
   "metadata": {},
   "outputs": [],
   "source": []
  }
 ],
 "metadata": {
  "kernelspec": {
   "display_name": "base",
   "language": "python",
   "name": "python3"
  },
  "language_info": {
   "codemirror_mode": {
    "name": "ipython",
    "version": 3
   },
   "file_extension": ".py",
   "mimetype": "text/x-python",
   "name": "python",
   "nbconvert_exporter": "python",
   "pygments_lexer": "ipython3",
   "version": "3.12.4"
  }
 },
 "nbformat": 4,
 "nbformat_minor": 2
}
