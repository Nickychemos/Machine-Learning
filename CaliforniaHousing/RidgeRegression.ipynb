{
 "cells": [
  {
   "cell_type": "markdown",
   "metadata": {},
   "source": [
    "Ridge Regression"
   ]
  },
  {
   "cell_type": "markdown",
   "metadata": {},
   "source": [
    "-Ridge Regression is a regularization technique tht helps in preventing overfitting in Linear Regression.\n",
    "-A higher alpha value results in a simpler model"
   ]
  },
  {
   "cell_type": "code",
   "execution_count": 2,
   "metadata": {},
   "outputs": [
    {
     "name": "stdout",
     "output_type": "stream",
     "text": [
      "The accuracy of this model using r2score is 34.0%\n",
      "The accuracy of this model using Mean Squared Error is 55.58 %\n"
     ]
    }
   ],
   "source": [
    "#import necessary libraries\n",
    "\n",
    "import pandas as pd\n",
    "import numpy as np\n",
    "\n",
    "#import ML libraries\n",
    "from sklearn.model_selection import train_test_split\n",
    "from sklearn.linear_model import Ridge\n",
    "from sklearn.datasets import fetch_california_housing\n",
    "from sklearn.metrics import r2_score, mean_squared_error\n",
    "\n",
    "\n",
    "#load the dataset\n",
    "df = fetch_california_housing()\n",
    "\n",
    "#We go straight to choosing our x and y variables\n",
    "x = df.data\n",
    "y = df.target\n",
    "\n",
    "#Splitting the dataset\n",
    "\n",
    "x_train, x_test, y_train, y_test = train_test_split(x,y,test_size=0.2, random_state = 42)\n",
    "\n",
    "#Choosing the model\n",
    "\n",
    "alpha = 1.0\n",
    "model = Ridge(alpha=alpha)\n",
    "\n",
    "#Fitting and training the mode\n",
    "\n",
    "model.fit(x_train, y_train)\n",
    "\n",
    "#Making predictions using the model\n",
    "\n",
    "y_predict = model.predict(x_test)\n",
    "\n",
    "#Checking the accuracy of the model\n",
    "\n",
    "r2 = r2_score(y_predict, y_test)\n",
    "\n",
    "roundedr2 = round(r2,2)\n",
    "\n",
    "print(f'The accuracy of this model using r2score is {roundedr2*100}%')\n",
    "accur2 = mean_squared_error(y_predict, y_test)\n",
    "print('The accuracy of this model using Mean Squared Error is',round(accur2*100,2),'%')"
   ]
  },
  {
   "cell_type": "code",
   "execution_count": 9,
   "metadata": {},
   "outputs": [
    {
     "name": "stdout",
     "output_type": "stream",
     "text": [
      "Model Score:  57.59 %\n"
     ]
    }
   ],
   "source": [
    "score = model.score(x_test, y_test)\n",
    "print('Model Score: ',round(score*100, 2), '%')"
   ]
  },
  {
   "cell_type": "code",
   "execution_count": null,
   "metadata": {},
   "outputs": [],
   "source": []
  }
 ],
 "metadata": {
  "kernelspec": {
   "display_name": "base",
   "language": "python",
   "name": "python3"
  },
  "language_info": {
   "codemirror_mode": {
    "name": "ipython",
    "version": 3
   },
   "file_extension": ".py",
   "mimetype": "text/x-python",
   "name": "python",
   "nbconvert_exporter": "python",
   "pygments_lexer": "ipython3",
   "version": "3.12.4"
  }
 },
 "nbformat": 4,
 "nbformat_minor": 2
}
